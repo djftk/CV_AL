{
 "cells": [
  {
   "cell_type": "code",
   "execution_count": 37,
   "id": "d13030c5-fc9c-4c61-b939-c6a20a316273",
   "metadata": {},
   "outputs": [
    {
     "name": "stdout",
     "output_type": "stream",
     "text": [
      "cuda\n"
     ]
    }
   ],
   "source": [
    "import os\n",
    "import time\n",
    "\n",
    "import torch\n",
    "import torchvision.transforms as transforms\n",
    "import torchvision.models as models\n",
    "from torch.utils.data import Dataset, DataLoader\n",
    "\n",
    "import torch.nn as nn\n",
    "import torch.optim as optim\n",
    "import torch.nn.functional as F\n",
    "\n",
    "from PIL import Image\n",
    "## GPU Setting\n",
    "USE_CUDA = torch.cuda.is_available()\n",
    "DEVICE = torch.device(\"cuda\" if USE_CUDA else \"cpu\")\n",
    "print(DEVICE)"
   ]
  },
  {
   "cell_type": "code",
   "execution_count": 31,
   "id": "ee6a5e79-3df9-4dd3-a772-34017e55e124",
   "metadata": {},
   "outputs": [
    {
     "name": "stdout",
     "output_type": "stream",
     "text": [
      "Create sweep with ID: 0vqh32fq\n",
      "Sweep URL: https://wandb.ai/djftk_major/CV-ActiveLearning01-01/sweeps/0vqh32fq\n"
     ]
    }
   ],
   "source": [
    "import wandb\n",
    "\n",
    "# Wandb 로그인\n",
    "wandb.login()\n",
    "\n",
    "# Sweep 설정\n",
    "sweep_config = {\n",
    "    \"method\": \"grid\",  # 또는 \"random\" 등을 사용할 수 있음\n",
    "    \"metric\": {\n",
    "        \"name\": \"val_accuracy\",  # 평가할 메트릭\n",
    "        \"goal\": \"maximize\"  # 최소화가 목표\n",
    "    },\n",
    "    \"parameters\": {\n",
    "        \"learning_rate\": {\n",
    "            \"values\": [0.001, 0.01, 0.1]\n",
    "        },\n",
    "        \"batch_size\": {\n",
    "            \"values\": [64, 128]\n",
    "        },\n",
    "        \"epochs\": {\n",
    "            \"values\": [10,20]\n",
    "        },\n",
    "        \"optimizer\": {\n",
    "            \"values\": [\"SGD\", \"Adam\"]\n",
    "        },\n",
    "        \"momentum\": {\n",
    "            \"values\": [0.9, 0.95]  # SGD에만 적용\n",
    "        },\n",
    "        \"dropout\": {\n",
    "            \"values\": [0.3, 0.5]\n",
    "        },\n",
    "    }\n",
    "}\n",
    "\n",
    "# Sweep 시작\n",
    "sweep_id = wandb.sweep(sweep_config, project=\"CV-ActiveLearning01-01\")"
   ]
  },
  {
   "cell_type": "code",
   "execution_count": 22,
   "id": "48c7684f-3469-4569-9a82-0e389c936045",
   "metadata": {},
   "outputs": [
    {
     "name": "stdout",
     "output_type": "stream",
     "text": [
      "Num of each dataset:  2361 296 298\n"
     ]
    }
   ],
   "source": [
    "## Custom Dataset\n",
    "class CUB2011(Dataset) :\n",
    "    def __init__(self, transforms, mode = 'train'):\n",
    "        self.transforms = transforms\n",
    "        self.mode = mode\n",
    "\n",
    "        base_dir = r'C:\\Users\\GACHON\\Documents\\jwkang\\CUB_200_2011_repackage_class50_v1\\CUB_200_2011_repackage_class50\\datasets'\n",
    "        \n",
    "        if self.mode == 'train' :\n",
    "            self.image_folder = os.listdir(os.path.join(base_dir, 'train'))\n",
    "        if self.mode == 'valid' :\n",
    "            self.image_folder = os.listdir(os.path.join(base_dir, 'valid'))\n",
    "        if self.mode == 'test' :\n",
    "            self.image_folder = os.listdir(os.path.join(base_dir, 'test'))\n",
    "\n",
    "    def __len__(self):\n",
    "        return len(self.image_folder)\n",
    "\n",
    "    def __getitem__(self, idx):\n",
    "        base_dir = r'C:\\Users\\GACHON\\Documents\\jwkang\\CUB_200_2011_repackage_class50_v1\\CUB_200_2011_repackage_class50\\datasets'\n",
    "        img_path = self.image_folder[idx]\n",
    "        img = Image.open(os.path.join(base_dir, self.mode, img_path)).convert('RGB')\n",
    "        img = self.transforms(img)\n",
    "\n",
    "        label_part = img_path.split('_')[-1].split('.')[0]\n",
    "        if '(' in label_part:\n",
    "            label_part = label_part.split('(')[0]  # 괄호 전까지 잘라냄\n",
    "        try:\n",
    "            label = int(label_part.strip())  # 공백 제거 후 숫자로 변환\n",
    "        except ValueError:\n",
    "            print(f\"Error converting label for file: {img_path}\")\n",
    "            raise\n",
    "\n",
    "        return (img, label)\n",
    "\n",
    "## Data Preprocessing\n",
    "transforms_train = transforms.Compose([transforms.Resize((448,448)),\n",
    "                                       transforms.ToTensor(), ])\n",
    "\n",
    "transforms_valtest = transforms.Compose([transforms.Resize((448,448)),\n",
    "                                       transforms.ToTensor(), ])\n",
    "\n",
    "BATCH_SIZE = 32\n",
    "train_set = CUB2011(mode = 'train',transforms = transforms_train)\n",
    "val_set = CUB2011(mode = 'valid',transforms = transforms_valtest)\n",
    "test_set = CUB2011(mode = 'test',transforms = transforms_valtest)\n",
    "\n",
    "print('Num of each dataset: ',len(train_set), len(val_set), len(test_set))\n",
    "\n",
    "train_loader = DataLoader(train_set, batch_size = BATCH_SIZE, shuffle = True)\n",
    "val_loader = DataLoader(val_set, batch_size = BATCH_SIZE, shuffle = False)\n",
    "test_loader = DataLoader(test_set, batch_size = BATCH_SIZE, shuffle = False)"
   ]
  },
  {
   "cell_type": "code",
   "execution_count": 34,
   "id": "2c69534b-6d8b-48f9-9ea9-4e3cc82a0085",
   "metadata": {},
   "outputs": [
    {
     "name": "stdout",
     "output_type": "stream",
     "text": [
      "Created a learning model and optimizer\n"
     ]
    }
   ],
   "source": [
    "## Model / Optimizer\n",
    "EPOCH = 30\n",
    "lr = 0.1\n",
    "model = models.resnet18(pretrained=True)\n",
    "\n",
    "### Transfer Learning\n",
    "num_features = model.fc.in_features\n",
    "model.fc = nn.Linear(num_features, 50)\n",
    "model.to(DEVICE)\n",
    "\n",
    "print(\"Created a learning model and optimizer\")\n",
    "\n",
    "def train(model, train_loader, optimizer, epoch):\n",
    "    model.train()\n",
    "    running_loss = 0.0\n",
    "    for i, (image, target) in enumerate(train_loader):\n",
    "        image, target = image.to(DEVICE), target.to(DEVICE)\n",
    "        output = model(image)\n",
    "        optimizer.zero_grad()\n",
    "        train_loss = F.cross_entropy(output, target).to(DEVICE)\n",
    "\n",
    "        train_loss.backward()\n",
    "        optimizer.step()\n",
    "\n",
    "        running_loss += train_loss.item()\n",
    "        if i % 10 == 0:\n",
    "            print(f'Train Epoch: {epoch} [{i}/{len(train_loader)}] \\t Loss: ({train_loss.item():.6f})')\n",
    "\n",
    "    avg_train_loss = running_loss / len(train_loader)\n",
    "    wandb.log({\"Training Loss\": avg_train_loss, \"Epoch\": epoch})\n",
    "\n",
    "    return train_loss\n",
    "\n",
    "def evaluate(model, val_loader):\n",
    "    model.eval()\n",
    "    eval_loss = 0\n",
    "    correct = 0\n",
    "    with torch.no_grad():\n",
    "        for i, (image, target) in enumerate(val_loader):\n",
    "            image, target = image.to(DEVICE), target.to(DEVICE)\n",
    "            output = model(image)\n",
    "\n",
    "            eval_loss += F.cross_entropy(output, target, reduction='sum').item()\n",
    "            pred = output.max(1, keepdim=True)[1]\n",
    "            correct += pred.eq(target.view_as(pred)).sum().item()\n",
    "\n",
    "    eval_loss /= len(val_loader.dataset)\n",
    "    eval_accuracy = 100. * correct / len(val_loader.dataset)\n",
    "\n",
    "    wandb.log({\"Validation Loss\": eval_loss, \"Validation Accuracy\": eval_accuracy})\n",
    "\n",
    "    return eval_loss, eval_accuracy"
   ]
  },
  {
   "cell_type": "code",
   "execution_count": 35,
   "id": "d797e5b2-34f2-4a06-a9ad-cd41179ad408",
   "metadata": {
    "scrolled": true
   },
   "outputs": [
    {
     "name": "stderr",
     "output_type": "stream",
     "text": [
      "wandb: Agent Starting Run: 3y5kdqug with config:\n",
      "wandb: \tbatch_size: 64\n",
      "wandb: \tdropout: 0.3\n",
      "wandb: \tepochs: 10\n",
      "wandb: \tlearning_rate: 0.001\n",
      "wandb: \tmomentum: 0.95\n",
      "wandb: \toptimizer: Adam\n"
     ]
    },
    {
     "data": {
      "text/html": [
       "Tracking run with wandb version 0.18.5"
      ],
      "text/plain": [
       "<IPython.core.display.HTML object>"
      ]
     },
     "metadata": {},
     "output_type": "display_data"
    },
    {
     "data": {
      "text/html": [
       "Run data is saved locally in <code>C:\\Users\\GACHON\\Documents\\jwkang\\wandb\\run-20241027_023846-3y5kdqug</code>"
      ],
      "text/plain": [
       "<IPython.core.display.HTML object>"
      ]
     },
     "metadata": {},
     "output_type": "display_data"
    },
    {
     "data": {
      "text/html": [
       "Syncing run <strong><a href='https://wandb.ai/djftk_major/CV-ActiveLearning01-01/runs/3y5kdqug' target=\"_blank\">devoted-sweep-4</a></strong> to <a href='https://wandb.ai/djftk_major/CV-ActiveLearning01-01' target=\"_blank\">Weights & Biases</a> (<a href='https://wandb.me/run' target=\"_blank\">docs</a>)<br/>Sweep page: <a href='https://wandb.ai/djftk_major/CV-ActiveLearning01-01/sweeps/0vqh32fq' target=\"_blank\">https://wandb.ai/djftk_major/CV-ActiveLearning01-01/sweeps/0vqh32fq</a>"
      ],
      "text/plain": [
       "<IPython.core.display.HTML object>"
      ]
     },
     "metadata": {},
     "output_type": "display_data"
    },
    {
     "data": {
      "text/html": [
       " View project at <a href='https://wandb.ai/djftk_major/CV-ActiveLearning01-01' target=\"_blank\">https://wandb.ai/djftk_major/CV-ActiveLearning01-01</a>"
      ],
      "text/plain": [
       "<IPython.core.display.HTML object>"
      ]
     },
     "metadata": {},
     "output_type": "display_data"
    },
    {
     "data": {
      "text/html": [
       " View sweep at <a href='https://wandb.ai/djftk_major/CV-ActiveLearning01-01/sweeps/0vqh32fq' target=\"_blank\">https://wandb.ai/djftk_major/CV-ActiveLearning01-01/sweeps/0vqh32fq</a>"
      ],
      "text/plain": [
       "<IPython.core.display.HTML object>"
      ]
     },
     "metadata": {},
     "output_type": "display_data"
    },
    {
     "data": {
      "text/html": [
       " View run at <a href='https://wandb.ai/djftk_major/CV-ActiveLearning01-01/runs/3y5kdqug' target=\"_blank\">https://wandb.ai/djftk_major/CV-ActiveLearning01-01/runs/3y5kdqug</a>"
      ],
      "text/plain": [
       "<IPython.core.display.HTML object>"
      ]
     },
     "metadata": {},
     "output_type": "display_data"
    },
    {
     "data": {
      "text/html": [
       "Finishing last run (ID:3y5kdqug) before initializing another..."
      ],
      "text/plain": [
       "<IPython.core.display.HTML object>"
      ]
     },
     "metadata": {},
     "output_type": "display_data"
    },
    {
     "data": {
      "text/html": [
       " View run <strong style=\"color:#cdcd00\">devoted-sweep-4</strong> at: <a href='https://wandb.ai/djftk_major/CV-ActiveLearning01-01/runs/3y5kdqug' target=\"_blank\">https://wandb.ai/djftk_major/CV-ActiveLearning01-01/runs/3y5kdqug</a><br/> View project at: <a href='https://wandb.ai/djftk_major/CV-ActiveLearning01-01' target=\"_blank\">https://wandb.ai/djftk_major/CV-ActiveLearning01-01</a><br/>Synced 5 W&B file(s), 0 media file(s), 0 artifact file(s) and 0 other file(s)"
      ],
      "text/plain": [
       "<IPython.core.display.HTML object>"
      ]
     },
     "metadata": {},
     "output_type": "display_data"
    },
    {
     "data": {
      "text/html": [
       "Find logs at: <code>.\\wandb\\run-20241027_023846-3y5kdqug\\logs</code>"
      ],
      "text/plain": [
       "<IPython.core.display.HTML object>"
      ]
     },
     "metadata": {},
     "output_type": "display_data"
    },
    {
     "data": {
      "text/html": [
       "Successfully finished last run (ID:3y5kdqug). Initializing new run:<br/>"
      ],
      "text/plain": [
       "<IPython.core.display.HTML object>"
      ]
     },
     "metadata": {},
     "output_type": "display_data"
    },
    {
     "data": {
      "text/html": [
       "Tracking run with wandb version 0.18.5"
      ],
      "text/plain": [
       "<IPython.core.display.HTML object>"
      ]
     },
     "metadata": {},
     "output_type": "display_data"
    },
    {
     "data": {
      "text/html": [
       "Run data is saved locally in <code>C:\\Users\\GACHON\\Documents\\jwkang\\wandb\\run-20241027_023846-3y5kdqug</code>"
      ],
      "text/plain": [
       "<IPython.core.display.HTML object>"
      ]
     },
     "metadata": {},
     "output_type": "display_data"
    },
    {
     "data": {
      "text/html": [
       "Syncing run <strong><a href='https://wandb.ai/djftk_major/CV-ActiveLearning01-01/runs/3y5kdqug' target=\"_blank\">64 / 10 / 0.001 / Adam / 0.95 / 0.3</a></strong> to <a href='https://wandb.ai/djftk_major/CV-ActiveLearning01-01' target=\"_blank\">Weights & Biases</a> (<a href='https://wandb.me/run' target=\"_blank\">docs</a>)<br/>Sweep page: <a href='https://wandb.ai/djftk_major/CV-ActiveLearning01-01/sweeps/0vqh32fq' target=\"_blank\">https://wandb.ai/djftk_major/CV-ActiveLearning01-01/sweeps/0vqh32fq</a>"
      ],
      "text/plain": [
       "<IPython.core.display.HTML object>"
      ]
     },
     "metadata": {},
     "output_type": "display_data"
    },
    {
     "data": {
      "text/html": [
       " View project at <a href='https://wandb.ai/djftk_major/CV-ActiveLearning01-01' target=\"_blank\">https://wandb.ai/djftk_major/CV-ActiveLearning01-01</a>"
      ],
      "text/plain": [
       "<IPython.core.display.HTML object>"
      ]
     },
     "metadata": {},
     "output_type": "display_data"
    },
    {
     "data": {
      "text/html": [
       " View sweep at <a href='https://wandb.ai/djftk_major/CV-ActiveLearning01-01/sweeps/0vqh32fq' target=\"_blank\">https://wandb.ai/djftk_major/CV-ActiveLearning01-01/sweeps/0vqh32fq</a>"
      ],
      "text/plain": [
       "<IPython.core.display.HTML object>"
      ]
     },
     "metadata": {},
     "output_type": "display_data"
    },
    {
     "data": {
      "text/html": [
       " View run at <a href='https://wandb.ai/djftk_major/CV-ActiveLearning01-01/runs/3y5kdqug' target=\"_blank\">https://wandb.ai/djftk_major/CV-ActiveLearning01-01/runs/3y5kdqug</a>"
      ],
      "text/plain": [
       "<IPython.core.display.HTML object>"
      ]
     },
     "metadata": {},
     "output_type": "display_data"
    },
    {
     "name": "stdout",
     "output_type": "stream",
     "text": [
      "Train Epoch: 0 [0/37] \t Loss: (4.149582)\n"
     ]
    },
    {
     "data": {
      "text/html": [
       " View run <strong style=\"color:#cdcd00\">64 / 10 / 0.001 / Adam / 0.95 / 0.3</strong> at: <a href='https://wandb.ai/djftk_major/CV-ActiveLearning01-01/runs/3y5kdqug' target=\"_blank\">https://wandb.ai/djftk_major/CV-ActiveLearning01-01/runs/3y5kdqug</a><br/> View project at: <a href='https://wandb.ai/djftk_major/CV-ActiveLearning01-01' target=\"_blank\">https://wandb.ai/djftk_major/CV-ActiveLearning01-01</a><br/>Synced 5 W&B file(s), 0 media file(s), 0 artifact file(s) and 0 other file(s)"
      ],
      "text/plain": [
       "<IPython.core.display.HTML object>"
      ]
     },
     "metadata": {},
     "output_type": "display_data"
    },
    {
     "data": {
      "text/html": [
       "Find logs at: <code>.\\wandb\\run-20241027_023846-3y5kdqug\\logs</code>"
      ],
      "text/plain": [
       "<IPython.core.display.HTML object>"
      ]
     },
     "metadata": {},
     "output_type": "display_data"
    },
    {
     "name": "stderr",
     "output_type": "stream",
     "text": [
      "Run 3y5kdqug errored:\n",
      "Traceback (most recent call last):\n",
      "  File \"C:\\Users\\GACHON\\anaconda3\\envs\\djftk\\lib\\site-packages\\wandb\\agents\\pyagent.py\", line 306, in _run_job\n",
      "    self._function()\n",
      "  File \"C:\\Users\\GACHON\\AppData\\Local\\Temp\\ipykernel_17256\\2804148834.py\", line 37, in sweep_train\n",
      "    train_loss = train(model, train_loader, optimizer, epoch)\n",
      "  File \"C:\\Users\\GACHON\\AppData\\Local\\Temp\\ipykernel_17256\\3374298231.py\", line 16, in train\n",
      "    for i, (image, target) in enumerate(train_loader):\n",
      "  File \"C:\\Users\\GACHON\\anaconda3\\envs\\djftk\\lib\\site-packages\\torch\\utils\\data\\dataloader.py\", line 521, in __next__\n",
      "    data = self._next_data()\n",
      "  File \"C:\\Users\\GACHON\\anaconda3\\envs\\djftk\\lib\\site-packages\\torch\\utils\\data\\dataloader.py\", line 561, in _next_data\n",
      "    data = self._dataset_fetcher.fetch(index)  # may raise StopIteration\n",
      "  File \"C:\\Users\\GACHON\\anaconda3\\envs\\djftk\\lib\\site-packages\\torch\\utils\\data\\_utils\\fetch.py\", line 49, in fetch\n",
      "    data = [self.dataset[idx] for idx in possibly_batched_index]\n",
      "  File \"C:\\Users\\GACHON\\anaconda3\\envs\\djftk\\lib\\site-packages\\torch\\utils\\data\\_utils\\fetch.py\", line 49, in <listcomp>\n",
      "    data = [self.dataset[idx] for idx in possibly_batched_index]\n",
      "  File \"C:\\Users\\GACHON\\AppData\\Local\\Temp\\ipykernel_17256\\3731979408.py\", line 22, in __getitem__\n",
      "    img = Image.open(os.path.join(base_dir, self.mode, img_path)).convert('RGB')\n",
      "  File \"C:\\Users\\GACHON\\anaconda3\\envs\\djftk\\lib\\site-packages\\PIL\\Image.py\", line 3431, in open\n",
      "    fp = builtins.open(filename, \"rb\")\n",
      "PermissionError: [Errno 13] Permission denied: 'C:\\\\Users\\\\GACHON\\\\Documents\\\\jwkang\\\\CUB_200_2011_repackage_class50_v1\\\\CUB_200_2011_repackage_class50\\\\datasets\\\\train\\\\.ipynb_checkpoints'\n",
      "\n",
      "wandb: ERROR Run 3y5kdqug errored:\n",
      "wandb: ERROR Traceback (most recent call last):\n",
      "wandb: ERROR   File \"C:\\Users\\GACHON\\anaconda3\\envs\\djftk\\lib\\site-packages\\wandb\\agents\\pyagent.py\", line 306, in _run_job\n",
      "wandb: ERROR     self._function()\n",
      "wandb: ERROR   File \"C:\\Users\\GACHON\\AppData\\Local\\Temp\\ipykernel_17256\\2804148834.py\", line 37, in sweep_train\n",
      "wandb: ERROR     train_loss = train(model, train_loader, optimizer, epoch)\n",
      "wandb: ERROR   File \"C:\\Users\\GACHON\\AppData\\Local\\Temp\\ipykernel_17256\\3374298231.py\", line 16, in train\n",
      "wandb: ERROR     for i, (image, target) in enumerate(train_loader):\n",
      "wandb: ERROR   File \"C:\\Users\\GACHON\\anaconda3\\envs\\djftk\\lib\\site-packages\\torch\\utils\\data\\dataloader.py\", line 521, in __next__\n",
      "wandb: ERROR     data = self._next_data()\n",
      "wandb: ERROR   File \"C:\\Users\\GACHON\\anaconda3\\envs\\djftk\\lib\\site-packages\\torch\\utils\\data\\dataloader.py\", line 561, in _next_data\n",
      "wandb: ERROR     data = self._dataset_fetcher.fetch(index)  # may raise StopIteration\n",
      "wandb: ERROR   File \"C:\\Users\\GACHON\\anaconda3\\envs\\djftk\\lib\\site-packages\\torch\\utils\\data\\_utils\\fetch.py\", line 49, in fetch\n",
      "wandb: ERROR     data = [self.dataset[idx] for idx in possibly_batched_index]\n",
      "wandb: ERROR   File \"C:\\Users\\GACHON\\anaconda3\\envs\\djftk\\lib\\site-packages\\torch\\utils\\data\\_utils\\fetch.py\", line 49, in <listcomp>\n",
      "wandb: ERROR     data = [self.dataset[idx] for idx in possibly_batched_index]\n",
      "wandb: ERROR   File \"C:\\Users\\GACHON\\AppData\\Local\\Temp\\ipykernel_17256\\3731979408.py\", line 22, in __getitem__\n",
      "wandb: ERROR     img = Image.open(os.path.join(base_dir, self.mode, img_path)).convert('RGB')\n",
      "wandb: ERROR   File \"C:\\Users\\GACHON\\anaconda3\\envs\\djftk\\lib\\site-packages\\PIL\\Image.py\", line 3431, in open\n",
      "wandb: ERROR     fp = builtins.open(filename, \"rb\")\n",
      "wandb: ERROR PermissionError: [Errno 13] Permission denied: 'C:\\\\Users\\\\GACHON\\\\Documents\\\\jwkang\\\\CUB_200_2011_repackage_class50_v1\\\\CUB_200_2011_repackage_class50\\\\datasets\\\\train\\\\.ipynb_checkpoints'\n",
      "wandb: ERROR \n",
      "wandb: Sweep Agent: Waiting for job.\n",
      "wandb: Job received.\n",
      "wandb: Agent Starting Run: o7xgpt6e with config:\n",
      "wandb: \tbatch_size: 64\n",
      "wandb: \tdropout: 0.3\n",
      "wandb: \tepochs: 10\n",
      "wandb: \tlearning_rate: 0.01\n",
      "wandb: \tmomentum: 0.9\n",
      "wandb: \toptimizer: SGD\n"
     ]
    },
    {
     "data": {
      "text/html": [
       "Tracking run with wandb version 0.18.5"
      ],
      "text/plain": [
       "<IPython.core.display.HTML object>"
      ]
     },
     "metadata": {},
     "output_type": "display_data"
    },
    {
     "data": {
      "text/html": [
       "Run data is saved locally in <code>C:\\Users\\GACHON\\Documents\\jwkang\\wandb\\run-20241027_023919-o7xgpt6e</code>"
      ],
      "text/plain": [
       "<IPython.core.display.HTML object>"
      ]
     },
     "metadata": {},
     "output_type": "display_data"
    },
    {
     "data": {
      "text/html": [
       "Syncing run <strong><a href='https://wandb.ai/djftk_major/CV-ActiveLearning01-01/runs/o7xgpt6e' target=\"_blank\">grateful-sweep-5</a></strong> to <a href='https://wandb.ai/djftk_major/CV-ActiveLearning01-01' target=\"_blank\">Weights & Biases</a> (<a href='https://wandb.me/run' target=\"_blank\">docs</a>)<br/>Sweep page: <a href='https://wandb.ai/djftk_major/CV-ActiveLearning01-01/sweeps/0vqh32fq' target=\"_blank\">https://wandb.ai/djftk_major/CV-ActiveLearning01-01/sweeps/0vqh32fq</a>"
      ],
      "text/plain": [
       "<IPython.core.display.HTML object>"
      ]
     },
     "metadata": {},
     "output_type": "display_data"
    },
    {
     "data": {
      "text/html": [
       " View project at <a href='https://wandb.ai/djftk_major/CV-ActiveLearning01-01' target=\"_blank\">https://wandb.ai/djftk_major/CV-ActiveLearning01-01</a>"
      ],
      "text/plain": [
       "<IPython.core.display.HTML object>"
      ]
     },
     "metadata": {},
     "output_type": "display_data"
    },
    {
     "data": {
      "text/html": [
       " View sweep at <a href='https://wandb.ai/djftk_major/CV-ActiveLearning01-01/sweeps/0vqh32fq' target=\"_blank\">https://wandb.ai/djftk_major/CV-ActiveLearning01-01/sweeps/0vqh32fq</a>"
      ],
      "text/plain": [
       "<IPython.core.display.HTML object>"
      ]
     },
     "metadata": {},
     "output_type": "display_data"
    },
    {
     "data": {
      "text/html": [
       " View run at <a href='https://wandb.ai/djftk_major/CV-ActiveLearning01-01/runs/o7xgpt6e' target=\"_blank\">https://wandb.ai/djftk_major/CV-ActiveLearning01-01/runs/o7xgpt6e</a>"
      ],
      "text/plain": [
       "<IPython.core.display.HTML object>"
      ]
     },
     "metadata": {},
     "output_type": "display_data"
    },
    {
     "data": {
      "text/html": [
       "Finishing last run (ID:o7xgpt6e) before initializing another..."
      ],
      "text/plain": [
       "<IPython.core.display.HTML object>"
      ]
     },
     "metadata": {},
     "output_type": "display_data"
    },
    {
     "data": {
      "text/html": [
       " View run <strong style=\"color:#cdcd00\">grateful-sweep-5</strong> at: <a href='https://wandb.ai/djftk_major/CV-ActiveLearning01-01/runs/o7xgpt6e' target=\"_blank\">https://wandb.ai/djftk_major/CV-ActiveLearning01-01/runs/o7xgpt6e</a><br/> View project at: <a href='https://wandb.ai/djftk_major/CV-ActiveLearning01-01' target=\"_blank\">https://wandb.ai/djftk_major/CV-ActiveLearning01-01</a><br/>Synced 5 W&B file(s), 0 media file(s), 0 artifact file(s) and 0 other file(s)"
      ],
      "text/plain": [
       "<IPython.core.display.HTML object>"
      ]
     },
     "metadata": {},
     "output_type": "display_data"
    },
    {
     "data": {
      "text/html": [
       "Find logs at: <code>.\\wandb\\run-20241027_023919-o7xgpt6e\\logs</code>"
      ],
      "text/plain": [
       "<IPython.core.display.HTML object>"
      ]
     },
     "metadata": {},
     "output_type": "display_data"
    },
    {
     "data": {
      "text/html": [
       "Successfully finished last run (ID:o7xgpt6e). Initializing new run:<br/>"
      ],
      "text/plain": [
       "<IPython.core.display.HTML object>"
      ]
     },
     "metadata": {},
     "output_type": "display_data"
    },
    {
     "data": {
      "text/html": [
       "Tracking run with wandb version 0.18.5"
      ],
      "text/plain": [
       "<IPython.core.display.HTML object>"
      ]
     },
     "metadata": {},
     "output_type": "display_data"
    },
    {
     "data": {
      "text/html": [
       "Run data is saved locally in <code>C:\\Users\\GACHON\\Documents\\jwkang\\wandb\\run-20241027_023920-o7xgpt6e</code>"
      ],
      "text/plain": [
       "<IPython.core.display.HTML object>"
      ]
     },
     "metadata": {},
     "output_type": "display_data"
    },
    {
     "data": {
      "text/html": [
       "Syncing run <strong><a href='https://wandb.ai/djftk_major/CV-ActiveLearning01-01/runs/o7xgpt6e' target=\"_blank\">64 / 10 / 0.01 / SGD / 0.9 / 0.3</a></strong> to <a href='https://wandb.ai/djftk_major/CV-ActiveLearning01-01' target=\"_blank\">Weights & Biases</a> (<a href='https://wandb.me/run' target=\"_blank\">docs</a>)<br/>Sweep page: <a href='https://wandb.ai/djftk_major/CV-ActiveLearning01-01/sweeps/0vqh32fq' target=\"_blank\">https://wandb.ai/djftk_major/CV-ActiveLearning01-01/sweeps/0vqh32fq</a>"
      ],
      "text/plain": [
       "<IPython.core.display.HTML object>"
      ]
     },
     "metadata": {},
     "output_type": "display_data"
    },
    {
     "data": {
      "text/html": [
       " View project at <a href='https://wandb.ai/djftk_major/CV-ActiveLearning01-01' target=\"_blank\">https://wandb.ai/djftk_major/CV-ActiveLearning01-01</a>"
      ],
      "text/plain": [
       "<IPython.core.display.HTML object>"
      ]
     },
     "metadata": {},
     "output_type": "display_data"
    },
    {
     "data": {
      "text/html": [
       " View sweep at <a href='https://wandb.ai/djftk_major/CV-ActiveLearning01-01/sweeps/0vqh32fq' target=\"_blank\">https://wandb.ai/djftk_major/CV-ActiveLearning01-01/sweeps/0vqh32fq</a>"
      ],
      "text/plain": [
       "<IPython.core.display.HTML object>"
      ]
     },
     "metadata": {},
     "output_type": "display_data"
    },
    {
     "data": {
      "text/html": [
       " View run at <a href='https://wandb.ai/djftk_major/CV-ActiveLearning01-01/runs/o7xgpt6e' target=\"_blank\">https://wandb.ai/djftk_major/CV-ActiveLearning01-01/runs/o7xgpt6e</a>"
      ],
      "text/plain": [
       "<IPython.core.display.HTML object>"
      ]
     },
     "metadata": {},
     "output_type": "display_data"
    },
    {
     "name": "stdout",
     "output_type": "stream",
     "text": [
      "Train Epoch: 0 [0/37] \t Loss: (4.266821)\n",
      "Train Epoch: 0 [10/37] \t Loss: (3.923336)\n"
     ]
    },
    {
     "data": {
      "text/html": [
       " View run <strong style=\"color:#cdcd00\">64 / 10 / 0.01 / SGD / 0.9 / 0.3</strong> at: <a href='https://wandb.ai/djftk_major/CV-ActiveLearning01-01/runs/o7xgpt6e' target=\"_blank\">https://wandb.ai/djftk_major/CV-ActiveLearning01-01/runs/o7xgpt6e</a><br/> View project at: <a href='https://wandb.ai/djftk_major/CV-ActiveLearning01-01' target=\"_blank\">https://wandb.ai/djftk_major/CV-ActiveLearning01-01</a><br/>Synced 5 W&B file(s), 0 media file(s), 0 artifact file(s) and 0 other file(s)"
      ],
      "text/plain": [
       "<IPython.core.display.HTML object>"
      ]
     },
     "metadata": {},
     "output_type": "display_data"
    },
    {
     "data": {
      "text/html": [
       "Find logs at: <code>.\\wandb\\run-20241027_023920-o7xgpt6e\\logs</code>"
      ],
      "text/plain": [
       "<IPython.core.display.HTML object>"
      ]
     },
     "metadata": {},
     "output_type": "display_data"
    },
    {
     "name": "stderr",
     "output_type": "stream",
     "text": [
      "Run o7xgpt6e errored:\n",
      "Traceback (most recent call last):\n",
      "  File \"C:\\Users\\GACHON\\anaconda3\\envs\\djftk\\lib\\site-packages\\wandb\\agents\\pyagent.py\", line 306, in _run_job\n",
      "    self._function()\n",
      "  File \"C:\\Users\\GACHON\\AppData\\Local\\Temp\\ipykernel_17256\\2804148834.py\", line 37, in sweep_train\n",
      "    train_loss = train(model, train_loader, optimizer, epoch)\n",
      "  File \"C:\\Users\\GACHON\\AppData\\Local\\Temp\\ipykernel_17256\\3374298231.py\", line 16, in train\n",
      "    for i, (image, target) in enumerate(train_loader):\n",
      "  File \"C:\\Users\\GACHON\\anaconda3\\envs\\djftk\\lib\\site-packages\\torch\\utils\\data\\dataloader.py\", line 521, in __next__\n",
      "    data = self._next_data()\n",
      "  File \"C:\\Users\\GACHON\\anaconda3\\envs\\djftk\\lib\\site-packages\\torch\\utils\\data\\dataloader.py\", line 561, in _next_data\n",
      "    data = self._dataset_fetcher.fetch(index)  # may raise StopIteration\n",
      "  File \"C:\\Users\\GACHON\\anaconda3\\envs\\djftk\\lib\\site-packages\\torch\\utils\\data\\_utils\\fetch.py\", line 49, in fetch\n",
      "    data = [self.dataset[idx] for idx in possibly_batched_index]\n",
      "  File \"C:\\Users\\GACHON\\anaconda3\\envs\\djftk\\lib\\site-packages\\torch\\utils\\data\\_utils\\fetch.py\", line 49, in <listcomp>\n",
      "    data = [self.dataset[idx] for idx in possibly_batched_index]\n",
      "  File \"C:\\Users\\GACHON\\AppData\\Local\\Temp\\ipykernel_17256\\3731979408.py\", line 22, in __getitem__\n",
      "    img = Image.open(os.path.join(base_dir, self.mode, img_path)).convert('RGB')\n",
      "  File \"C:\\Users\\GACHON\\anaconda3\\envs\\djftk\\lib\\site-packages\\PIL\\Image.py\", line 3431, in open\n",
      "    fp = builtins.open(filename, \"rb\")\n",
      "PermissionError: [Errno 13] Permission denied: 'C:\\\\Users\\\\GACHON\\\\Documents\\\\jwkang\\\\CUB_200_2011_repackage_class50_v1\\\\CUB_200_2011_repackage_class50\\\\datasets\\\\train\\\\.ipynb_checkpoints'\n",
      "\n",
      "wandb: ERROR Run o7xgpt6e errored:\n",
      "wandb: ERROR Traceback (most recent call last):\n",
      "wandb: ERROR   File \"C:\\Users\\GACHON\\anaconda3\\envs\\djftk\\lib\\site-packages\\wandb\\agents\\pyagent.py\", line 306, in _run_job\n",
      "wandb: ERROR     self._function()\n",
      "wandb: ERROR   File \"C:\\Users\\GACHON\\AppData\\Local\\Temp\\ipykernel_17256\\2804148834.py\", line 37, in sweep_train\n",
      "wandb: ERROR     train_loss = train(model, train_loader, optimizer, epoch)\n",
      "wandb: ERROR   File \"C:\\Users\\GACHON\\AppData\\Local\\Temp\\ipykernel_17256\\3374298231.py\", line 16, in train\n",
      "wandb: ERROR     for i, (image, target) in enumerate(train_loader):\n",
      "wandb: ERROR   File \"C:\\Users\\GACHON\\anaconda3\\envs\\djftk\\lib\\site-packages\\torch\\utils\\data\\dataloader.py\", line 521, in __next__\n",
      "wandb: ERROR     data = self._next_data()\n",
      "wandb: ERROR   File \"C:\\Users\\GACHON\\anaconda3\\envs\\djftk\\lib\\site-packages\\torch\\utils\\data\\dataloader.py\", line 561, in _next_data\n",
      "wandb: ERROR     data = self._dataset_fetcher.fetch(index)  # may raise StopIteration\n",
      "wandb: ERROR   File \"C:\\Users\\GACHON\\anaconda3\\envs\\djftk\\lib\\site-packages\\torch\\utils\\data\\_utils\\fetch.py\", line 49, in fetch\n",
      "wandb: ERROR     data = [self.dataset[idx] for idx in possibly_batched_index]\n",
      "wandb: ERROR   File \"C:\\Users\\GACHON\\anaconda3\\envs\\djftk\\lib\\site-packages\\torch\\utils\\data\\_utils\\fetch.py\", line 49, in <listcomp>\n",
      "wandb: ERROR     data = [self.dataset[idx] for idx in possibly_batched_index]\n",
      "wandb: ERROR   File \"C:\\Users\\GACHON\\AppData\\Local\\Temp\\ipykernel_17256\\3731979408.py\", line 22, in __getitem__\n",
      "wandb: ERROR     img = Image.open(os.path.join(base_dir, self.mode, img_path)).convert('RGB')\n",
      "wandb: ERROR   File \"C:\\Users\\GACHON\\anaconda3\\envs\\djftk\\lib\\site-packages\\PIL\\Image.py\", line 3431, in open\n",
      "wandb: ERROR     fp = builtins.open(filename, \"rb\")\n",
      "wandb: ERROR PermissionError: [Errno 13] Permission denied: 'C:\\\\Users\\\\GACHON\\\\Documents\\\\jwkang\\\\CUB_200_2011_repackage_class50_v1\\\\CUB_200_2011_repackage_class50\\\\datasets\\\\train\\\\.ipynb_checkpoints'\n",
      "wandb: ERROR \n",
      "wandb: Agent Starting Run: kwrnxn99 with config:\n",
      "wandb: \tbatch_size: 64\n",
      "wandb: \tdropout: 0.3\n",
      "wandb: \tepochs: 10\n",
      "wandb: \tlearning_rate: 0.01\n",
      "wandb: \tmomentum: 0.9\n",
      "wandb: \toptimizer: Adam\n"
     ]
    },
    {
     "data": {
      "text/html": [
       "Tracking run with wandb version 0.18.5"
      ],
      "text/plain": [
       "<IPython.core.display.HTML object>"
      ]
     },
     "metadata": {},
     "output_type": "display_data"
    },
    {
     "data": {
      "text/html": [
       "Run data is saved locally in <code>C:\\Users\\GACHON\\Documents\\jwkang\\wandb\\run-20241027_024136-kwrnxn99</code>"
      ],
      "text/plain": [
       "<IPython.core.display.HTML object>"
      ]
     },
     "metadata": {},
     "output_type": "display_data"
    },
    {
     "data": {
      "text/html": [
       "Syncing run <strong><a href='https://wandb.ai/djftk_major/CV-ActiveLearning01-01/runs/kwrnxn99' target=\"_blank\">cool-sweep-6</a></strong> to <a href='https://wandb.ai/djftk_major/CV-ActiveLearning01-01' target=\"_blank\">Weights & Biases</a> (<a href='https://wandb.me/run' target=\"_blank\">docs</a>)<br/>Sweep page: <a href='https://wandb.ai/djftk_major/CV-ActiveLearning01-01/sweeps/0vqh32fq' target=\"_blank\">https://wandb.ai/djftk_major/CV-ActiveLearning01-01/sweeps/0vqh32fq</a>"
      ],
      "text/plain": [
       "<IPython.core.display.HTML object>"
      ]
     },
     "metadata": {},
     "output_type": "display_data"
    },
    {
     "data": {
      "text/html": [
       " View project at <a href='https://wandb.ai/djftk_major/CV-ActiveLearning01-01' target=\"_blank\">https://wandb.ai/djftk_major/CV-ActiveLearning01-01</a>"
      ],
      "text/plain": [
       "<IPython.core.display.HTML object>"
      ]
     },
     "metadata": {},
     "output_type": "display_data"
    },
    {
     "data": {
      "text/html": [
       " View sweep at <a href='https://wandb.ai/djftk_major/CV-ActiveLearning01-01/sweeps/0vqh32fq' target=\"_blank\">https://wandb.ai/djftk_major/CV-ActiveLearning01-01/sweeps/0vqh32fq</a>"
      ],
      "text/plain": [
       "<IPython.core.display.HTML object>"
      ]
     },
     "metadata": {},
     "output_type": "display_data"
    },
    {
     "data": {
      "text/html": [
       " View run at <a href='https://wandb.ai/djftk_major/CV-ActiveLearning01-01/runs/kwrnxn99' target=\"_blank\">https://wandb.ai/djftk_major/CV-ActiveLearning01-01/runs/kwrnxn99</a>"
      ],
      "text/plain": [
       "<IPython.core.display.HTML object>"
      ]
     },
     "metadata": {},
     "output_type": "display_data"
    },
    {
     "data": {
      "text/html": [
       "Finishing last run (ID:kwrnxn99) before initializing another..."
      ],
      "text/plain": [
       "<IPython.core.display.HTML object>"
      ]
     },
     "metadata": {},
     "output_type": "display_data"
    },
    {
     "data": {
      "text/html": [
       " View run <strong style=\"color:#cdcd00\">cool-sweep-6</strong> at: <a href='https://wandb.ai/djftk_major/CV-ActiveLearning01-01/runs/kwrnxn99' target=\"_blank\">https://wandb.ai/djftk_major/CV-ActiveLearning01-01/runs/kwrnxn99</a><br/> View project at: <a href='https://wandb.ai/djftk_major/CV-ActiveLearning01-01' target=\"_blank\">https://wandb.ai/djftk_major/CV-ActiveLearning01-01</a><br/>Synced 5 W&B file(s), 0 media file(s), 0 artifact file(s) and 0 other file(s)"
      ],
      "text/plain": [
       "<IPython.core.display.HTML object>"
      ]
     },
     "metadata": {},
     "output_type": "display_data"
    },
    {
     "data": {
      "text/html": [
       "Find logs at: <code>.\\wandb\\run-20241027_024136-kwrnxn99\\logs</code>"
      ],
      "text/plain": [
       "<IPython.core.display.HTML object>"
      ]
     },
     "metadata": {},
     "output_type": "display_data"
    },
    {
     "data": {
      "text/html": [
       "Successfully finished last run (ID:kwrnxn99). Initializing new run:<br/>"
      ],
      "text/plain": [
       "<IPython.core.display.HTML object>"
      ]
     },
     "metadata": {},
     "output_type": "display_data"
    },
    {
     "data": {
      "text/html": [
       "Tracking run with wandb version 0.18.5"
      ],
      "text/plain": [
       "<IPython.core.display.HTML object>"
      ]
     },
     "metadata": {},
     "output_type": "display_data"
    },
    {
     "data": {
      "text/html": [
       "Run data is saved locally in <code>C:\\Users\\GACHON\\Documents\\jwkang\\wandb\\run-20241027_024136-kwrnxn99</code>"
      ],
      "text/plain": [
       "<IPython.core.display.HTML object>"
      ]
     },
     "metadata": {},
     "output_type": "display_data"
    },
    {
     "data": {
      "text/html": [
       "Syncing run <strong><a href='https://wandb.ai/djftk_major/CV-ActiveLearning01-01/runs/kwrnxn99' target=\"_blank\">64 / 10 / 0.01 / Adam / 0.9 / 0.3</a></strong> to <a href='https://wandb.ai/djftk_major/CV-ActiveLearning01-01' target=\"_blank\">Weights & Biases</a> (<a href='https://wandb.me/run' target=\"_blank\">docs</a>)<br/>Sweep page: <a href='https://wandb.ai/djftk_major/CV-ActiveLearning01-01/sweeps/0vqh32fq' target=\"_blank\">https://wandb.ai/djftk_major/CV-ActiveLearning01-01/sweeps/0vqh32fq</a>"
      ],
      "text/plain": [
       "<IPython.core.display.HTML object>"
      ]
     },
     "metadata": {},
     "output_type": "display_data"
    },
    {
     "data": {
      "text/html": [
       " View project at <a href='https://wandb.ai/djftk_major/CV-ActiveLearning01-01' target=\"_blank\">https://wandb.ai/djftk_major/CV-ActiveLearning01-01</a>"
      ],
      "text/plain": [
       "<IPython.core.display.HTML object>"
      ]
     },
     "metadata": {},
     "output_type": "display_data"
    },
    {
     "data": {
      "text/html": [
       " View sweep at <a href='https://wandb.ai/djftk_major/CV-ActiveLearning01-01/sweeps/0vqh32fq' target=\"_blank\">https://wandb.ai/djftk_major/CV-ActiveLearning01-01/sweeps/0vqh32fq</a>"
      ],
      "text/plain": [
       "<IPython.core.display.HTML object>"
      ]
     },
     "metadata": {},
     "output_type": "display_data"
    },
    {
     "data": {
      "text/html": [
       " View run at <a href='https://wandb.ai/djftk_major/CV-ActiveLearning01-01/runs/kwrnxn99' target=\"_blank\">https://wandb.ai/djftk_major/CV-ActiveLearning01-01/runs/kwrnxn99</a>"
      ],
      "text/plain": [
       "<IPython.core.display.HTML object>"
      ]
     },
     "metadata": {},
     "output_type": "display_data"
    },
    {
     "name": "stdout",
     "output_type": "stream",
     "text": [
      "Train Epoch: 0 [0/37] \t Loss: (4.225710)\n",
      "Train Epoch: 0 [10/37] \t Loss: (4.717775)\n"
     ]
    },
    {
     "data": {
      "text/html": [
       " View run <strong style=\"color:#cdcd00\">64 / 10 / 0.01 / Adam / 0.9 / 0.3</strong> at: <a href='https://wandb.ai/djftk_major/CV-ActiveLearning01-01/runs/kwrnxn99' target=\"_blank\">https://wandb.ai/djftk_major/CV-ActiveLearning01-01/runs/kwrnxn99</a><br/> View project at: <a href='https://wandb.ai/djftk_major/CV-ActiveLearning01-01' target=\"_blank\">https://wandb.ai/djftk_major/CV-ActiveLearning01-01</a><br/>Synced 5 W&B file(s), 0 media file(s), 0 artifact file(s) and 0 other file(s)"
      ],
      "text/plain": [
       "<IPython.core.display.HTML object>"
      ]
     },
     "metadata": {},
     "output_type": "display_data"
    },
    {
     "data": {
      "text/html": [
       "Find logs at: <code>.\\wandb\\run-20241027_024136-kwrnxn99\\logs</code>"
      ],
      "text/plain": [
       "<IPython.core.display.HTML object>"
      ]
     },
     "metadata": {},
     "output_type": "display_data"
    },
    {
     "name": "stderr",
     "output_type": "stream",
     "text": [
      "Run kwrnxn99 errored:\n",
      "Traceback (most recent call last):\n",
      "  File \"C:\\Users\\GACHON\\anaconda3\\envs\\djftk\\lib\\site-packages\\wandb\\agents\\pyagent.py\", line 306, in _run_job\n",
      "    self._function()\n",
      "  File \"C:\\Users\\GACHON\\AppData\\Local\\Temp\\ipykernel_17256\\2804148834.py\", line 37, in sweep_train\n",
      "    train_loss = train(model, train_loader, optimizer, epoch)\n",
      "  File \"C:\\Users\\GACHON\\AppData\\Local\\Temp\\ipykernel_17256\\3374298231.py\", line 16, in train\n",
      "    for i, (image, target) in enumerate(train_loader):\n",
      "  File \"C:\\Users\\GACHON\\anaconda3\\envs\\djftk\\lib\\site-packages\\torch\\utils\\data\\dataloader.py\", line 521, in __next__\n",
      "    data = self._next_data()\n",
      "  File \"C:\\Users\\GACHON\\anaconda3\\envs\\djftk\\lib\\site-packages\\torch\\utils\\data\\dataloader.py\", line 561, in _next_data\n",
      "    data = self._dataset_fetcher.fetch(index)  # may raise StopIteration\n",
      "  File \"C:\\Users\\GACHON\\anaconda3\\envs\\djftk\\lib\\site-packages\\torch\\utils\\data\\_utils\\fetch.py\", line 49, in fetch\n",
      "    data = [self.dataset[idx] for idx in possibly_batched_index]\n",
      "  File \"C:\\Users\\GACHON\\anaconda3\\envs\\djftk\\lib\\site-packages\\torch\\utils\\data\\_utils\\fetch.py\", line 49, in <listcomp>\n",
      "    data = [self.dataset[idx] for idx in possibly_batched_index]\n",
      "  File \"C:\\Users\\GACHON\\AppData\\Local\\Temp\\ipykernel_17256\\3731979408.py\", line 22, in __getitem__\n",
      "    img = Image.open(os.path.join(base_dir, self.mode, img_path)).convert('RGB')\n",
      "  File \"C:\\Users\\GACHON\\anaconda3\\envs\\djftk\\lib\\site-packages\\PIL\\Image.py\", line 3431, in open\n",
      "    fp = builtins.open(filename, \"rb\")\n",
      "PermissionError: [Errno 13] Permission denied: 'C:\\\\Users\\\\GACHON\\\\Documents\\\\jwkang\\\\CUB_200_2011_repackage_class50_v1\\\\CUB_200_2011_repackage_class50\\\\datasets\\\\train\\\\.ipynb_checkpoints'\n",
      "\n",
      "wandb: ERROR Run kwrnxn99 errored:\n",
      "wandb: ERROR Traceback (most recent call last):\n",
      "wandb: ERROR   File \"C:\\Users\\GACHON\\anaconda3\\envs\\djftk\\lib\\site-packages\\wandb\\agents\\pyagent.py\", line 306, in _run_job\n",
      "wandb: ERROR     self._function()\n",
      "wandb: ERROR   File \"C:\\Users\\GACHON\\AppData\\Local\\Temp\\ipykernel_17256\\2804148834.py\", line 37, in sweep_train\n",
      "wandb: ERROR     train_loss = train(model, train_loader, optimizer, epoch)\n",
      "wandb: ERROR   File \"C:\\Users\\GACHON\\AppData\\Local\\Temp\\ipykernel_17256\\3374298231.py\", line 16, in train\n",
      "wandb: ERROR     for i, (image, target) in enumerate(train_loader):\n",
      "wandb: ERROR   File \"C:\\Users\\GACHON\\anaconda3\\envs\\djftk\\lib\\site-packages\\torch\\utils\\data\\dataloader.py\", line 521, in __next__\n",
      "wandb: ERROR     data = self._next_data()\n",
      "wandb: ERROR   File \"C:\\Users\\GACHON\\anaconda3\\envs\\djftk\\lib\\site-packages\\torch\\utils\\data\\dataloader.py\", line 561, in _next_data\n",
      "wandb: ERROR     data = self._dataset_fetcher.fetch(index)  # may raise StopIteration\n",
      "wandb: ERROR   File \"C:\\Users\\GACHON\\anaconda3\\envs\\djftk\\lib\\site-packages\\torch\\utils\\data\\_utils\\fetch.py\", line 49, in fetch\n",
      "wandb: ERROR     data = [self.dataset[idx] for idx in possibly_batched_index]\n",
      "wandb: ERROR   File \"C:\\Users\\GACHON\\anaconda3\\envs\\djftk\\lib\\site-packages\\torch\\utils\\data\\_utils\\fetch.py\", line 49, in <listcomp>\n",
      "wandb: ERROR     data = [self.dataset[idx] for idx in possibly_batched_index]\n",
      "wandb: ERROR   File \"C:\\Users\\GACHON\\AppData\\Local\\Temp\\ipykernel_17256\\3731979408.py\", line 22, in __getitem__\n",
      "wandb: ERROR     img = Image.open(os.path.join(base_dir, self.mode, img_path)).convert('RGB')\n",
      "wandb: ERROR   File \"C:\\Users\\GACHON\\anaconda3\\envs\\djftk\\lib\\site-packages\\PIL\\Image.py\", line 3431, in open\n",
      "wandb: ERROR     fp = builtins.open(filename, \"rb\")\n",
      "wandb: ERROR PermissionError: [Errno 13] Permission denied: 'C:\\\\Users\\\\GACHON\\\\Documents\\\\jwkang\\\\CUB_200_2011_repackage_class50_v1\\\\CUB_200_2011_repackage_class50\\\\datasets\\\\train\\\\.ipynb_checkpoints'\n",
      "wandb: ERROR \n",
      "wandb: Sweep Agent: Waiting for job.\n",
      "wandb: Job received.\n",
      "wandb: Agent Starting Run: x01g7506 with config:\n",
      "wandb: \tbatch_size: 64\n",
      "wandb: \tdropout: 0.3\n",
      "wandb: \tepochs: 10\n",
      "wandb: \tlearning_rate: 0.01\n",
      "wandb: \tmomentum: 0.95\n",
      "wandb: \toptimizer: SGD\n"
     ]
    },
    {
     "data": {
      "text/html": [
       "Tracking run with wandb version 0.18.5"
      ],
      "text/plain": [
       "<IPython.core.display.HTML object>"
      ]
     },
     "metadata": {},
     "output_type": "display_data"
    },
    {
     "data": {
      "text/html": [
       "Run data is saved locally in <code>C:\\Users\\GACHON\\Documents\\jwkang\\wandb\\run-20241027_024238-x01g7506</code>"
      ],
      "text/plain": [
       "<IPython.core.display.HTML object>"
      ]
     },
     "metadata": {},
     "output_type": "display_data"
    },
    {
     "data": {
      "text/html": [
       "Syncing run <strong><a href='https://wandb.ai/djftk_major/CV-ActiveLearning01-01/runs/x01g7506' target=\"_blank\">vibrant-sweep-7</a></strong> to <a href='https://wandb.ai/djftk_major/CV-ActiveLearning01-01' target=\"_blank\">Weights & Biases</a> (<a href='https://wandb.me/run' target=\"_blank\">docs</a>)<br/>Sweep page: <a href='https://wandb.ai/djftk_major/CV-ActiveLearning01-01/sweeps/0vqh32fq' target=\"_blank\">https://wandb.ai/djftk_major/CV-ActiveLearning01-01/sweeps/0vqh32fq</a>"
      ],
      "text/plain": [
       "<IPython.core.display.HTML object>"
      ]
     },
     "metadata": {},
     "output_type": "display_data"
    },
    {
     "data": {
      "text/html": [
       " View project at <a href='https://wandb.ai/djftk_major/CV-ActiveLearning01-01' target=\"_blank\">https://wandb.ai/djftk_major/CV-ActiveLearning01-01</a>"
      ],
      "text/plain": [
       "<IPython.core.display.HTML object>"
      ]
     },
     "metadata": {},
     "output_type": "display_data"
    },
    {
     "data": {
      "text/html": [
       " View sweep at <a href='https://wandb.ai/djftk_major/CV-ActiveLearning01-01/sweeps/0vqh32fq' target=\"_blank\">https://wandb.ai/djftk_major/CV-ActiveLearning01-01/sweeps/0vqh32fq</a>"
      ],
      "text/plain": [
       "<IPython.core.display.HTML object>"
      ]
     },
     "metadata": {},
     "output_type": "display_data"
    },
    {
     "data": {
      "text/html": [
       " View run at <a href='https://wandb.ai/djftk_major/CV-ActiveLearning01-01/runs/x01g7506' target=\"_blank\">https://wandb.ai/djftk_major/CV-ActiveLearning01-01/runs/x01g7506</a>"
      ],
      "text/plain": [
       "<IPython.core.display.HTML object>"
      ]
     },
     "metadata": {},
     "output_type": "display_data"
    },
    {
     "data": {
      "text/html": [
       "Finishing last run (ID:x01g7506) before initializing another..."
      ],
      "text/plain": [
       "<IPython.core.display.HTML object>"
      ]
     },
     "metadata": {},
     "output_type": "display_data"
    },
    {
     "data": {
      "text/html": [
       " View run <strong style=\"color:#cdcd00\">vibrant-sweep-7</strong> at: <a href='https://wandb.ai/djftk_major/CV-ActiveLearning01-01/runs/x01g7506' target=\"_blank\">https://wandb.ai/djftk_major/CV-ActiveLearning01-01/runs/x01g7506</a><br/> View project at: <a href='https://wandb.ai/djftk_major/CV-ActiveLearning01-01' target=\"_blank\">https://wandb.ai/djftk_major/CV-ActiveLearning01-01</a><br/>Synced 5 W&B file(s), 0 media file(s), 0 artifact file(s) and 0 other file(s)"
      ],
      "text/plain": [
       "<IPython.core.display.HTML object>"
      ]
     },
     "metadata": {},
     "output_type": "display_data"
    },
    {
     "data": {
      "text/html": [
       "Find logs at: <code>.\\wandb\\run-20241027_024238-x01g7506\\logs</code>"
      ],
      "text/plain": [
       "<IPython.core.display.HTML object>"
      ]
     },
     "metadata": {},
     "output_type": "display_data"
    },
    {
     "data": {
      "text/html": [
       "Successfully finished last run (ID:x01g7506). Initializing new run:<br/>"
      ],
      "text/plain": [
       "<IPython.core.display.HTML object>"
      ]
     },
     "metadata": {},
     "output_type": "display_data"
    },
    {
     "data": {
      "text/html": [
       "Tracking run with wandb version 0.18.5"
      ],
      "text/plain": [
       "<IPython.core.display.HTML object>"
      ]
     },
     "metadata": {},
     "output_type": "display_data"
    },
    {
     "data": {
      "text/html": [
       "Run data is saved locally in <code>C:\\Users\\GACHON\\Documents\\jwkang\\wandb\\run-20241027_024239-x01g7506</code>"
      ],
      "text/plain": [
       "<IPython.core.display.HTML object>"
      ]
     },
     "metadata": {},
     "output_type": "display_data"
    },
    {
     "data": {
      "text/html": [
       "Syncing run <strong><a href='https://wandb.ai/djftk_major/CV-ActiveLearning01-01/runs/x01g7506' target=\"_blank\">64 / 10 / 0.01 / SGD / 0.95 / 0.3</a></strong> to <a href='https://wandb.ai/djftk_major/CV-ActiveLearning01-01' target=\"_blank\">Weights & Biases</a> (<a href='https://wandb.me/run' target=\"_blank\">docs</a>)<br/>Sweep page: <a href='https://wandb.ai/djftk_major/CV-ActiveLearning01-01/sweeps/0vqh32fq' target=\"_blank\">https://wandb.ai/djftk_major/CV-ActiveLearning01-01/sweeps/0vqh32fq</a>"
      ],
      "text/plain": [
       "<IPython.core.display.HTML object>"
      ]
     },
     "metadata": {},
     "output_type": "display_data"
    },
    {
     "data": {
      "text/html": [
       " View project at <a href='https://wandb.ai/djftk_major/CV-ActiveLearning01-01' target=\"_blank\">https://wandb.ai/djftk_major/CV-ActiveLearning01-01</a>"
      ],
      "text/plain": [
       "<IPython.core.display.HTML object>"
      ]
     },
     "metadata": {},
     "output_type": "display_data"
    },
    {
     "data": {
      "text/html": [
       " View sweep at <a href='https://wandb.ai/djftk_major/CV-ActiveLearning01-01/sweeps/0vqh32fq' target=\"_blank\">https://wandb.ai/djftk_major/CV-ActiveLearning01-01/sweeps/0vqh32fq</a>"
      ],
      "text/plain": [
       "<IPython.core.display.HTML object>"
      ]
     },
     "metadata": {},
     "output_type": "display_data"
    },
    {
     "data": {
      "text/html": [
       " View run at <a href='https://wandb.ai/djftk_major/CV-ActiveLearning01-01/runs/x01g7506' target=\"_blank\">https://wandb.ai/djftk_major/CV-ActiveLearning01-01/runs/x01g7506</a>"
      ],
      "text/plain": [
       "<IPython.core.display.HTML object>"
      ]
     },
     "metadata": {},
     "output_type": "display_data"
    },
    {
     "name": "stdout",
     "output_type": "stream",
     "text": [
      "Train Epoch: 0 [0/37] \t Loss: (4.035398)\n",
      "Train Epoch: 0 [10/37] \t Loss: (4.037912)\n"
     ]
    },
    {
     "data": {
      "text/html": [
       " View run <strong style=\"color:#cdcd00\">64 / 10 / 0.01 / SGD / 0.95 / 0.3</strong> at: <a href='https://wandb.ai/djftk_major/CV-ActiveLearning01-01/runs/x01g7506' target=\"_blank\">https://wandb.ai/djftk_major/CV-ActiveLearning01-01/runs/x01g7506</a><br/> View project at: <a href='https://wandb.ai/djftk_major/CV-ActiveLearning01-01' target=\"_blank\">https://wandb.ai/djftk_major/CV-ActiveLearning01-01</a><br/>Synced 5 W&B file(s), 0 media file(s), 0 artifact file(s) and 0 other file(s)"
      ],
      "text/plain": [
       "<IPython.core.display.HTML object>"
      ]
     },
     "metadata": {},
     "output_type": "display_data"
    },
    {
     "data": {
      "text/html": [
       "Find logs at: <code>.\\wandb\\run-20241027_024239-x01g7506\\logs</code>"
      ],
      "text/plain": [
       "<IPython.core.display.HTML object>"
      ]
     },
     "metadata": {},
     "output_type": "display_data"
    },
    {
     "name": "stderr",
     "output_type": "stream",
     "text": [
      "Run x01g7506 errored:\n",
      "Traceback (most recent call last):\n",
      "  File \"C:\\Users\\GACHON\\anaconda3\\envs\\djftk\\lib\\site-packages\\wandb\\agents\\pyagent.py\", line 306, in _run_job\n",
      "    self._function()\n",
      "  File \"C:\\Users\\GACHON\\AppData\\Local\\Temp\\ipykernel_17256\\2804148834.py\", line 37, in sweep_train\n",
      "    train_loss = train(model, train_loader, optimizer, epoch)\n",
      "  File \"C:\\Users\\GACHON\\AppData\\Local\\Temp\\ipykernel_17256\\3374298231.py\", line 16, in train\n",
      "    for i, (image, target) in enumerate(train_loader):\n",
      "  File \"C:\\Users\\GACHON\\anaconda3\\envs\\djftk\\lib\\site-packages\\torch\\utils\\data\\dataloader.py\", line 521, in __next__\n",
      "    data = self._next_data()\n",
      "  File \"C:\\Users\\GACHON\\anaconda3\\envs\\djftk\\lib\\site-packages\\torch\\utils\\data\\dataloader.py\", line 561, in _next_data\n",
      "    data = self._dataset_fetcher.fetch(index)  # may raise StopIteration\n",
      "  File \"C:\\Users\\GACHON\\anaconda3\\envs\\djftk\\lib\\site-packages\\torch\\utils\\data\\_utils\\fetch.py\", line 49, in fetch\n",
      "    data = [self.dataset[idx] for idx in possibly_batched_index]\n",
      "  File \"C:\\Users\\GACHON\\anaconda3\\envs\\djftk\\lib\\site-packages\\torch\\utils\\data\\_utils\\fetch.py\", line 49, in <listcomp>\n",
      "    data = [self.dataset[idx] for idx in possibly_batched_index]\n",
      "  File \"C:\\Users\\GACHON\\AppData\\Local\\Temp\\ipykernel_17256\\3731979408.py\", line 22, in __getitem__\n",
      "    img = Image.open(os.path.join(base_dir, self.mode, img_path)).convert('RGB')\n",
      "  File \"C:\\Users\\GACHON\\anaconda3\\envs\\djftk\\lib\\site-packages\\PIL\\Image.py\", line 3431, in open\n",
      "    fp = builtins.open(filename, \"rb\")\n",
      "PermissionError: [Errno 13] Permission denied: 'C:\\\\Users\\\\GACHON\\\\Documents\\\\jwkang\\\\CUB_200_2011_repackage_class50_v1\\\\CUB_200_2011_repackage_class50\\\\datasets\\\\train\\\\.ipynb_checkpoints'\n",
      "\n",
      "wandb: ERROR Run x01g7506 errored:\n",
      "wandb: ERROR Traceback (most recent call last):\n",
      "wandb: ERROR   File \"C:\\Users\\GACHON\\anaconda3\\envs\\djftk\\lib\\site-packages\\wandb\\agents\\pyagent.py\", line 306, in _run_job\n",
      "wandb: ERROR     self._function()\n",
      "wandb: ERROR   File \"C:\\Users\\GACHON\\AppData\\Local\\Temp\\ipykernel_17256\\2804148834.py\", line 37, in sweep_train\n",
      "wandb: ERROR     train_loss = train(model, train_loader, optimizer, epoch)\n",
      "wandb: ERROR   File \"C:\\Users\\GACHON\\AppData\\Local\\Temp\\ipykernel_17256\\3374298231.py\", line 16, in train\n",
      "wandb: ERROR     for i, (image, target) in enumerate(train_loader):\n",
      "wandb: ERROR   File \"C:\\Users\\GACHON\\anaconda3\\envs\\djftk\\lib\\site-packages\\torch\\utils\\data\\dataloader.py\", line 521, in __next__\n",
      "wandb: ERROR     data = self._next_data()\n",
      "wandb: ERROR   File \"C:\\Users\\GACHON\\anaconda3\\envs\\djftk\\lib\\site-packages\\torch\\utils\\data\\dataloader.py\", line 561, in _next_data\n",
      "wandb: ERROR     data = self._dataset_fetcher.fetch(index)  # may raise StopIteration\n",
      "wandb: ERROR   File \"C:\\Users\\GACHON\\anaconda3\\envs\\djftk\\lib\\site-packages\\torch\\utils\\data\\_utils\\fetch.py\", line 49, in fetch\n",
      "wandb: ERROR     data = [self.dataset[idx] for idx in possibly_batched_index]\n",
      "wandb: ERROR   File \"C:\\Users\\GACHON\\anaconda3\\envs\\djftk\\lib\\site-packages\\torch\\utils\\data\\_utils\\fetch.py\", line 49, in <listcomp>\n",
      "wandb: ERROR     data = [self.dataset[idx] for idx in possibly_batched_index]\n",
      "wandb: ERROR   File \"C:\\Users\\GACHON\\AppData\\Local\\Temp\\ipykernel_17256\\3731979408.py\", line 22, in __getitem__\n",
      "wandb: ERROR     img = Image.open(os.path.join(base_dir, self.mode, img_path)).convert('RGB')\n",
      "wandb: ERROR   File \"C:\\Users\\GACHON\\anaconda3\\envs\\djftk\\lib\\site-packages\\PIL\\Image.py\", line 3431, in open\n",
      "wandb: ERROR     fp = builtins.open(filename, \"rb\")\n",
      "wandb: ERROR PermissionError: [Errno 13] Permission denied: 'C:\\\\Users\\\\GACHON\\\\Documents\\\\jwkang\\\\CUB_200_2011_repackage_class50_v1\\\\CUB_200_2011_repackage_class50\\\\datasets\\\\train\\\\.ipynb_checkpoints'\n",
      "wandb: ERROR \n",
      "wandb: Sweep Agent: Waiting for job.\n",
      "wandb: Job received.\n",
      "wandb: Agent Starting Run: kt7od8hy with config:\n",
      "wandb: \tbatch_size: 64\n",
      "wandb: \tdropout: 0.3\n",
      "wandb: \tepochs: 10\n",
      "wandb: \tlearning_rate: 0.01\n",
      "wandb: \tmomentum: 0.95\n",
      "wandb: \toptimizer: Adam\n"
     ]
    },
    {
     "data": {
      "text/html": [
       "Tracking run with wandb version 0.18.5"
      ],
      "text/plain": [
       "<IPython.core.display.HTML object>"
      ]
     },
     "metadata": {},
     "output_type": "display_data"
    },
    {
     "data": {
      "text/html": [
       "Run data is saved locally in <code>C:\\Users\\GACHON\\Documents\\jwkang\\wandb\\run-20241027_024325-kt7od8hy</code>"
      ],
      "text/plain": [
       "<IPython.core.display.HTML object>"
      ]
     },
     "metadata": {},
     "output_type": "display_data"
    },
    {
     "data": {
      "text/html": [
       "Syncing run <strong><a href='https://wandb.ai/djftk_major/CV-ActiveLearning01-01/runs/kt7od8hy' target=\"_blank\">logical-sweep-8</a></strong> to <a href='https://wandb.ai/djftk_major/CV-ActiveLearning01-01' target=\"_blank\">Weights & Biases</a> (<a href='https://wandb.me/run' target=\"_blank\">docs</a>)<br/>Sweep page: <a href='https://wandb.ai/djftk_major/CV-ActiveLearning01-01/sweeps/0vqh32fq' target=\"_blank\">https://wandb.ai/djftk_major/CV-ActiveLearning01-01/sweeps/0vqh32fq</a>"
      ],
      "text/plain": [
       "<IPython.core.display.HTML object>"
      ]
     },
     "metadata": {},
     "output_type": "display_data"
    },
    {
     "data": {
      "text/html": [
       " View project at <a href='https://wandb.ai/djftk_major/CV-ActiveLearning01-01' target=\"_blank\">https://wandb.ai/djftk_major/CV-ActiveLearning01-01</a>"
      ],
      "text/plain": [
       "<IPython.core.display.HTML object>"
      ]
     },
     "metadata": {},
     "output_type": "display_data"
    },
    {
     "data": {
      "text/html": [
       " View sweep at <a href='https://wandb.ai/djftk_major/CV-ActiveLearning01-01/sweeps/0vqh32fq' target=\"_blank\">https://wandb.ai/djftk_major/CV-ActiveLearning01-01/sweeps/0vqh32fq</a>"
      ],
      "text/plain": [
       "<IPython.core.display.HTML object>"
      ]
     },
     "metadata": {},
     "output_type": "display_data"
    },
    {
     "data": {
      "text/html": [
       " View run at <a href='https://wandb.ai/djftk_major/CV-ActiveLearning01-01/runs/kt7od8hy' target=\"_blank\">https://wandb.ai/djftk_major/CV-ActiveLearning01-01/runs/kt7od8hy</a>"
      ],
      "text/plain": [
       "<IPython.core.display.HTML object>"
      ]
     },
     "metadata": {},
     "output_type": "display_data"
    },
    {
     "data": {
      "text/html": [
       "Finishing last run (ID:kt7od8hy) before initializing another..."
      ],
      "text/plain": [
       "<IPython.core.display.HTML object>"
      ]
     },
     "metadata": {},
     "output_type": "display_data"
    },
    {
     "data": {
      "text/html": [
       " View run <strong style=\"color:#cdcd00\">logical-sweep-8</strong> at: <a href='https://wandb.ai/djftk_major/CV-ActiveLearning01-01/runs/kt7od8hy' target=\"_blank\">https://wandb.ai/djftk_major/CV-ActiveLearning01-01/runs/kt7od8hy</a><br/> View project at: <a href='https://wandb.ai/djftk_major/CV-ActiveLearning01-01' target=\"_blank\">https://wandb.ai/djftk_major/CV-ActiveLearning01-01</a><br/>Synced 5 W&B file(s), 0 media file(s), 0 artifact file(s) and 0 other file(s)"
      ],
      "text/plain": [
       "<IPython.core.display.HTML object>"
      ]
     },
     "metadata": {},
     "output_type": "display_data"
    },
    {
     "data": {
      "text/html": [
       "Find logs at: <code>.\\wandb\\run-20241027_024325-kt7od8hy\\logs</code>"
      ],
      "text/plain": [
       "<IPython.core.display.HTML object>"
      ]
     },
     "metadata": {},
     "output_type": "display_data"
    },
    {
     "data": {
      "text/html": [
       "Successfully finished last run (ID:kt7od8hy). Initializing new run:<br/>"
      ],
      "text/plain": [
       "<IPython.core.display.HTML object>"
      ]
     },
     "metadata": {},
     "output_type": "display_data"
    },
    {
     "data": {
      "text/html": [
       "Tracking run with wandb version 0.18.5"
      ],
      "text/plain": [
       "<IPython.core.display.HTML object>"
      ]
     },
     "metadata": {},
     "output_type": "display_data"
    },
    {
     "data": {
      "text/html": [
       "Run data is saved locally in <code>C:\\Users\\GACHON\\Documents\\jwkang\\wandb\\run-20241027_024326-kt7od8hy</code>"
      ],
      "text/plain": [
       "<IPython.core.display.HTML object>"
      ]
     },
     "metadata": {},
     "output_type": "display_data"
    },
    {
     "data": {
      "text/html": [
       "Syncing run <strong><a href='https://wandb.ai/djftk_major/CV-ActiveLearning01-01/runs/kt7od8hy' target=\"_blank\">64 / 10 / 0.01 / Adam / 0.95 / 0.3</a></strong> to <a href='https://wandb.ai/djftk_major/CV-ActiveLearning01-01' target=\"_blank\">Weights & Biases</a> (<a href='https://wandb.me/run' target=\"_blank\">docs</a>)<br/>Sweep page: <a href='https://wandb.ai/djftk_major/CV-ActiveLearning01-01/sweeps/0vqh32fq' target=\"_blank\">https://wandb.ai/djftk_major/CV-ActiveLearning01-01/sweeps/0vqh32fq</a>"
      ],
      "text/plain": [
       "<IPython.core.display.HTML object>"
      ]
     },
     "metadata": {},
     "output_type": "display_data"
    },
    {
     "data": {
      "text/html": [
       " View project at <a href='https://wandb.ai/djftk_major/CV-ActiveLearning01-01' target=\"_blank\">https://wandb.ai/djftk_major/CV-ActiveLearning01-01</a>"
      ],
      "text/plain": [
       "<IPython.core.display.HTML object>"
      ]
     },
     "metadata": {},
     "output_type": "display_data"
    },
    {
     "data": {
      "text/html": [
       " View sweep at <a href='https://wandb.ai/djftk_major/CV-ActiveLearning01-01/sweeps/0vqh32fq' target=\"_blank\">https://wandb.ai/djftk_major/CV-ActiveLearning01-01/sweeps/0vqh32fq</a>"
      ],
      "text/plain": [
       "<IPython.core.display.HTML object>"
      ]
     },
     "metadata": {},
     "output_type": "display_data"
    },
    {
     "data": {
      "text/html": [
       " View run at <a href='https://wandb.ai/djftk_major/CV-ActiveLearning01-01/runs/kt7od8hy' target=\"_blank\">https://wandb.ai/djftk_major/CV-ActiveLearning01-01/runs/kt7od8hy</a>"
      ],
      "text/plain": [
       "<IPython.core.display.HTML object>"
      ]
     },
     "metadata": {},
     "output_type": "display_data"
    },
    {
     "name": "stdout",
     "output_type": "stream",
     "text": [
      "Train Epoch: 0 [0/37] \t Loss: (4.149684)\n",
      "Train Epoch: 0 [10/37] \t Loss: (4.368949)\n"
     ]
    },
    {
     "data": {
      "text/html": [
       " View run <strong style=\"color:#cdcd00\">64 / 10 / 0.01 / Adam / 0.95 / 0.3</strong> at: <a href='https://wandb.ai/djftk_major/CV-ActiveLearning01-01/runs/kt7od8hy' target=\"_blank\">https://wandb.ai/djftk_major/CV-ActiveLearning01-01/runs/kt7od8hy</a><br/> View project at: <a href='https://wandb.ai/djftk_major/CV-ActiveLearning01-01' target=\"_blank\">https://wandb.ai/djftk_major/CV-ActiveLearning01-01</a><br/>Synced 5 W&B file(s), 0 media file(s), 0 artifact file(s) and 0 other file(s)"
      ],
      "text/plain": [
       "<IPython.core.display.HTML object>"
      ]
     },
     "metadata": {},
     "output_type": "display_data"
    },
    {
     "data": {
      "text/html": [
       "Find logs at: <code>.\\wandb\\run-20241027_024326-kt7od8hy\\logs</code>"
      ],
      "text/plain": [
       "<IPython.core.display.HTML object>"
      ]
     },
     "metadata": {},
     "output_type": "display_data"
    },
    {
     "name": "stderr",
     "output_type": "stream",
     "text": [
      "Run kt7od8hy errored:\n",
      "Traceback (most recent call last):\n",
      "  File \"C:\\Users\\GACHON\\anaconda3\\envs\\djftk\\lib\\site-packages\\wandb\\agents\\pyagent.py\", line 306, in _run_job\n",
      "    self._function()\n",
      "  File \"C:\\Users\\GACHON\\AppData\\Local\\Temp\\ipykernel_17256\\2804148834.py\", line 37, in sweep_train\n",
      "    train_loss = train(model, train_loader, optimizer, epoch)\n",
      "  File \"C:\\Users\\GACHON\\AppData\\Local\\Temp\\ipykernel_17256\\3374298231.py\", line 16, in train\n",
      "    for i, (image, target) in enumerate(train_loader):\n",
      "  File \"C:\\Users\\GACHON\\anaconda3\\envs\\djftk\\lib\\site-packages\\torch\\utils\\data\\dataloader.py\", line 521, in __next__\n",
      "    data = self._next_data()\n",
      "  File \"C:\\Users\\GACHON\\anaconda3\\envs\\djftk\\lib\\site-packages\\torch\\utils\\data\\dataloader.py\", line 561, in _next_data\n",
      "    data = self._dataset_fetcher.fetch(index)  # may raise StopIteration\n",
      "  File \"C:\\Users\\GACHON\\anaconda3\\envs\\djftk\\lib\\site-packages\\torch\\utils\\data\\_utils\\fetch.py\", line 49, in fetch\n",
      "    data = [self.dataset[idx] for idx in possibly_batched_index]\n",
      "  File \"C:\\Users\\GACHON\\anaconda3\\envs\\djftk\\lib\\site-packages\\torch\\utils\\data\\_utils\\fetch.py\", line 49, in <listcomp>\n",
      "    data = [self.dataset[idx] for idx in possibly_batched_index]\n",
      "  File \"C:\\Users\\GACHON\\AppData\\Local\\Temp\\ipykernel_17256\\3731979408.py\", line 22, in __getitem__\n",
      "    img = Image.open(os.path.join(base_dir, self.mode, img_path)).convert('RGB')\n",
      "  File \"C:\\Users\\GACHON\\anaconda3\\envs\\djftk\\lib\\site-packages\\PIL\\Image.py\", line 3431, in open\n",
      "    fp = builtins.open(filename, \"rb\")\n",
      "PermissionError: [Errno 13] Permission denied: 'C:\\\\Users\\\\GACHON\\\\Documents\\\\jwkang\\\\CUB_200_2011_repackage_class50_v1\\\\CUB_200_2011_repackage_class50\\\\datasets\\\\train\\\\.ipynb_checkpoints'\n",
      "\n",
      "wandb: ERROR Run kt7od8hy errored:\n",
      "wandb: ERROR Traceback (most recent call last):\n",
      "wandb: ERROR   File \"C:\\Users\\GACHON\\anaconda3\\envs\\djftk\\lib\\site-packages\\wandb\\agents\\pyagent.py\", line 306, in _run_job\n",
      "wandb: ERROR     self._function()\n",
      "wandb: ERROR   File \"C:\\Users\\GACHON\\AppData\\Local\\Temp\\ipykernel_17256\\2804148834.py\", line 37, in sweep_train\n",
      "wandb: ERROR     train_loss = train(model, train_loader, optimizer, epoch)\n",
      "wandb: ERROR   File \"C:\\Users\\GACHON\\AppData\\Local\\Temp\\ipykernel_17256\\3374298231.py\", line 16, in train\n",
      "wandb: ERROR     for i, (image, target) in enumerate(train_loader):\n",
      "wandb: ERROR   File \"C:\\Users\\GACHON\\anaconda3\\envs\\djftk\\lib\\site-packages\\torch\\utils\\data\\dataloader.py\", line 521, in __next__\n",
      "wandb: ERROR     data = self._next_data()\n",
      "wandb: ERROR   File \"C:\\Users\\GACHON\\anaconda3\\envs\\djftk\\lib\\site-packages\\torch\\utils\\data\\dataloader.py\", line 561, in _next_data\n",
      "wandb: ERROR     data = self._dataset_fetcher.fetch(index)  # may raise StopIteration\n",
      "wandb: ERROR   File \"C:\\Users\\GACHON\\anaconda3\\envs\\djftk\\lib\\site-packages\\torch\\utils\\data\\_utils\\fetch.py\", line 49, in fetch\n",
      "wandb: ERROR     data = [self.dataset[idx] for idx in possibly_batched_index]\n",
      "wandb: ERROR   File \"C:\\Users\\GACHON\\anaconda3\\envs\\djftk\\lib\\site-packages\\torch\\utils\\data\\_utils\\fetch.py\", line 49, in <listcomp>\n",
      "wandb: ERROR     data = [self.dataset[idx] for idx in possibly_batched_index]\n",
      "wandb: ERROR   File \"C:\\Users\\GACHON\\AppData\\Local\\Temp\\ipykernel_17256\\3731979408.py\", line 22, in __getitem__\n",
      "wandb: ERROR     img = Image.open(os.path.join(base_dir, self.mode, img_path)).convert('RGB')\n",
      "wandb: ERROR   File \"C:\\Users\\GACHON\\anaconda3\\envs\\djftk\\lib\\site-packages\\PIL\\Image.py\", line 3431, in open\n",
      "wandb: ERROR     fp = builtins.open(filename, \"rb\")\n",
      "wandb: ERROR PermissionError: [Errno 13] Permission denied: 'C:\\\\Users\\\\GACHON\\\\Documents\\\\jwkang\\\\CUB_200_2011_repackage_class50_v1\\\\CUB_200_2011_repackage_class50\\\\datasets\\\\train\\\\.ipynb_checkpoints'\n",
      "wandb: ERROR \n",
      "wandb: Agent Starting Run: tbihdtzt with config:\n",
      "wandb: \tbatch_size: 64\n",
      "wandb: \tdropout: 0.3\n",
      "wandb: \tepochs: 10\n",
      "wandb: \tlearning_rate: 0.1\n",
      "wandb: \tmomentum: 0.9\n",
      "wandb: \toptimizer: SGD\n"
     ]
    },
    {
     "data": {
      "text/html": [
       "Tracking run with wandb version 0.18.5"
      ],
      "text/plain": [
       "<IPython.core.display.HTML object>"
      ]
     },
     "metadata": {},
     "output_type": "display_data"
    },
    {
     "data": {
      "text/html": [
       "Run data is saved locally in <code>C:\\Users\\GACHON\\Documents\\jwkang\\wandb\\run-20241027_024352-tbihdtzt</code>"
      ],
      "text/plain": [
       "<IPython.core.display.HTML object>"
      ]
     },
     "metadata": {},
     "output_type": "display_data"
    },
    {
     "data": {
      "text/html": [
       "Syncing run <strong><a href='https://wandb.ai/djftk_major/CV-ActiveLearning01-01/runs/tbihdtzt' target=\"_blank\">gallant-sweep-9</a></strong> to <a href='https://wandb.ai/djftk_major/CV-ActiveLearning01-01' target=\"_blank\">Weights & Biases</a> (<a href='https://wandb.me/run' target=\"_blank\">docs</a>)<br/>Sweep page: <a href='https://wandb.ai/djftk_major/CV-ActiveLearning01-01/sweeps/0vqh32fq' target=\"_blank\">https://wandb.ai/djftk_major/CV-ActiveLearning01-01/sweeps/0vqh32fq</a>"
      ],
      "text/plain": [
       "<IPython.core.display.HTML object>"
      ]
     },
     "metadata": {},
     "output_type": "display_data"
    },
    {
     "data": {
      "text/html": [
       " View project at <a href='https://wandb.ai/djftk_major/CV-ActiveLearning01-01' target=\"_blank\">https://wandb.ai/djftk_major/CV-ActiveLearning01-01</a>"
      ],
      "text/plain": [
       "<IPython.core.display.HTML object>"
      ]
     },
     "metadata": {},
     "output_type": "display_data"
    },
    {
     "data": {
      "text/html": [
       " View sweep at <a href='https://wandb.ai/djftk_major/CV-ActiveLearning01-01/sweeps/0vqh32fq' target=\"_blank\">https://wandb.ai/djftk_major/CV-ActiveLearning01-01/sweeps/0vqh32fq</a>"
      ],
      "text/plain": [
       "<IPython.core.display.HTML object>"
      ]
     },
     "metadata": {},
     "output_type": "display_data"
    },
    {
     "data": {
      "text/html": [
       " View run at <a href='https://wandb.ai/djftk_major/CV-ActiveLearning01-01/runs/tbihdtzt' target=\"_blank\">https://wandb.ai/djftk_major/CV-ActiveLearning01-01/runs/tbihdtzt</a>"
      ],
      "text/plain": [
       "<IPython.core.display.HTML object>"
      ]
     },
     "metadata": {},
     "output_type": "display_data"
    },
    {
     "data": {
      "text/html": [
       "Finishing last run (ID:tbihdtzt) before initializing another..."
      ],
      "text/plain": [
       "<IPython.core.display.HTML object>"
      ]
     },
     "metadata": {},
     "output_type": "display_data"
    },
    {
     "data": {
      "text/html": [
       " View run <strong style=\"color:#cdcd00\">gallant-sweep-9</strong> at: <a href='https://wandb.ai/djftk_major/CV-ActiveLearning01-01/runs/tbihdtzt' target=\"_blank\">https://wandb.ai/djftk_major/CV-ActiveLearning01-01/runs/tbihdtzt</a><br/> View project at: <a href='https://wandb.ai/djftk_major/CV-ActiveLearning01-01' target=\"_blank\">https://wandb.ai/djftk_major/CV-ActiveLearning01-01</a><br/>Synced 5 W&B file(s), 0 media file(s), 0 artifact file(s) and 0 other file(s)"
      ],
      "text/plain": [
       "<IPython.core.display.HTML object>"
      ]
     },
     "metadata": {},
     "output_type": "display_data"
    },
    {
     "data": {
      "text/html": [
       "Find logs at: <code>.\\wandb\\run-20241027_024352-tbihdtzt\\logs</code>"
      ],
      "text/plain": [
       "<IPython.core.display.HTML object>"
      ]
     },
     "metadata": {},
     "output_type": "display_data"
    },
    {
     "data": {
      "text/html": [
       "Successfully finished last run (ID:tbihdtzt). Initializing new run:<br/>"
      ],
      "text/plain": [
       "<IPython.core.display.HTML object>"
      ]
     },
     "metadata": {},
     "output_type": "display_data"
    },
    {
     "data": {
      "text/html": [
       "Tracking run with wandb version 0.18.5"
      ],
      "text/plain": [
       "<IPython.core.display.HTML object>"
      ]
     },
     "metadata": {},
     "output_type": "display_data"
    },
    {
     "data": {
      "text/html": [
       "Run data is saved locally in <code>C:\\Users\\GACHON\\Documents\\jwkang\\wandb\\run-20241027_024353-tbihdtzt</code>"
      ],
      "text/plain": [
       "<IPython.core.display.HTML object>"
      ]
     },
     "metadata": {},
     "output_type": "display_data"
    },
    {
     "data": {
      "text/html": [
       "Syncing run <strong><a href='https://wandb.ai/djftk_major/CV-ActiveLearning01-01/runs/tbihdtzt' target=\"_blank\">64 / 10 / 0.1 / SGD / 0.9 / 0.3</a></strong> to <a href='https://wandb.ai/djftk_major/CV-ActiveLearning01-01' target=\"_blank\">Weights & Biases</a> (<a href='https://wandb.me/run' target=\"_blank\">docs</a>)<br/>Sweep page: <a href='https://wandb.ai/djftk_major/CV-ActiveLearning01-01/sweeps/0vqh32fq' target=\"_blank\">https://wandb.ai/djftk_major/CV-ActiveLearning01-01/sweeps/0vqh32fq</a>"
      ],
      "text/plain": [
       "<IPython.core.display.HTML object>"
      ]
     },
     "metadata": {},
     "output_type": "display_data"
    },
    {
     "data": {
      "text/html": [
       " View project at <a href='https://wandb.ai/djftk_major/CV-ActiveLearning01-01' target=\"_blank\">https://wandb.ai/djftk_major/CV-ActiveLearning01-01</a>"
      ],
      "text/plain": [
       "<IPython.core.display.HTML object>"
      ]
     },
     "metadata": {},
     "output_type": "display_data"
    },
    {
     "data": {
      "text/html": [
       " View sweep at <a href='https://wandb.ai/djftk_major/CV-ActiveLearning01-01/sweeps/0vqh32fq' target=\"_blank\">https://wandb.ai/djftk_major/CV-ActiveLearning01-01/sweeps/0vqh32fq</a>"
      ],
      "text/plain": [
       "<IPython.core.display.HTML object>"
      ]
     },
     "metadata": {},
     "output_type": "display_data"
    },
    {
     "data": {
      "text/html": [
       " View run at <a href='https://wandb.ai/djftk_major/CV-ActiveLearning01-01/runs/tbihdtzt' target=\"_blank\">https://wandb.ai/djftk_major/CV-ActiveLearning01-01/runs/tbihdtzt</a>"
      ],
      "text/plain": [
       "<IPython.core.display.HTML object>"
      ]
     },
     "metadata": {},
     "output_type": "display_data"
    },
    {
     "name": "stdout",
     "output_type": "stream",
     "text": [
      "Train Epoch: 0 [0/37] \t Loss: (4.291768)\n",
      "Train Epoch: 0 [10/37] \t Loss: (3.552135)\n",
      "Train Epoch: 0 [20/37] \t Loss: (5.303220)\n"
     ]
    },
    {
     "data": {
      "text/html": [
       " View run <strong style=\"color:#cdcd00\">64 / 10 / 0.1 / SGD / 0.9 / 0.3</strong> at: <a href='https://wandb.ai/djftk_major/CV-ActiveLearning01-01/runs/tbihdtzt' target=\"_blank\">https://wandb.ai/djftk_major/CV-ActiveLearning01-01/runs/tbihdtzt</a><br/> View project at: <a href='https://wandb.ai/djftk_major/CV-ActiveLearning01-01' target=\"_blank\">https://wandb.ai/djftk_major/CV-ActiveLearning01-01</a><br/>Synced 5 W&B file(s), 0 media file(s), 0 artifact file(s) and 0 other file(s)"
      ],
      "text/plain": [
       "<IPython.core.display.HTML object>"
      ]
     },
     "metadata": {},
     "output_type": "display_data"
    },
    {
     "data": {
      "text/html": [
       "Find logs at: <code>.\\wandb\\run-20241027_024353-tbihdtzt\\logs</code>"
      ],
      "text/plain": [
       "<IPython.core.display.HTML object>"
      ]
     },
     "metadata": {},
     "output_type": "display_data"
    },
    {
     "name": "stderr",
     "output_type": "stream",
     "text": [
      "Run tbihdtzt errored:\n",
      "Traceback (most recent call last):\n",
      "  File \"C:\\Users\\GACHON\\anaconda3\\envs\\djftk\\lib\\site-packages\\wandb\\agents\\pyagent.py\", line 306, in _run_job\n",
      "    self._function()\n",
      "  File \"C:\\Users\\GACHON\\AppData\\Local\\Temp\\ipykernel_17256\\2804148834.py\", line 37, in sweep_train\n",
      "    train_loss = train(model, train_loader, optimizer, epoch)\n",
      "  File \"C:\\Users\\GACHON\\AppData\\Local\\Temp\\ipykernel_17256\\3374298231.py\", line 16, in train\n",
      "    for i, (image, target) in enumerate(train_loader):\n",
      "  File \"C:\\Users\\GACHON\\anaconda3\\envs\\djftk\\lib\\site-packages\\torch\\utils\\data\\dataloader.py\", line 521, in __next__\n",
      "    data = self._next_data()\n",
      "  File \"C:\\Users\\GACHON\\anaconda3\\envs\\djftk\\lib\\site-packages\\torch\\utils\\data\\dataloader.py\", line 561, in _next_data\n",
      "    data = self._dataset_fetcher.fetch(index)  # may raise StopIteration\n",
      "  File \"C:\\Users\\GACHON\\anaconda3\\envs\\djftk\\lib\\site-packages\\torch\\utils\\data\\_utils\\fetch.py\", line 49, in fetch\n",
      "    data = [self.dataset[idx] for idx in possibly_batched_index]\n",
      "  File \"C:\\Users\\GACHON\\anaconda3\\envs\\djftk\\lib\\site-packages\\torch\\utils\\data\\_utils\\fetch.py\", line 49, in <listcomp>\n",
      "    data = [self.dataset[idx] for idx in possibly_batched_index]\n",
      "  File \"C:\\Users\\GACHON\\AppData\\Local\\Temp\\ipykernel_17256\\3731979408.py\", line 22, in __getitem__\n",
      "    img = Image.open(os.path.join(base_dir, self.mode, img_path)).convert('RGB')\n",
      "  File \"C:\\Users\\GACHON\\anaconda3\\envs\\djftk\\lib\\site-packages\\PIL\\Image.py\", line 3431, in open\n",
      "    fp = builtins.open(filename, \"rb\")\n",
      "PermissionError: [Errno 13] Permission denied: 'C:\\\\Users\\\\GACHON\\\\Documents\\\\jwkang\\\\CUB_200_2011_repackage_class50_v1\\\\CUB_200_2011_repackage_class50\\\\datasets\\\\train\\\\.ipynb_checkpoints'\n",
      "\n",
      "wandb: ERROR Run tbihdtzt errored:\n",
      "wandb: ERROR Traceback (most recent call last):\n",
      "wandb: ERROR   File \"C:\\Users\\GACHON\\anaconda3\\envs\\djftk\\lib\\site-packages\\wandb\\agents\\pyagent.py\", line 306, in _run_job\n",
      "wandb: ERROR     self._function()\n",
      "wandb: ERROR   File \"C:\\Users\\GACHON\\AppData\\Local\\Temp\\ipykernel_17256\\2804148834.py\", line 37, in sweep_train\n",
      "wandb: ERROR     train_loss = train(model, train_loader, optimizer, epoch)\n",
      "wandb: ERROR   File \"C:\\Users\\GACHON\\AppData\\Local\\Temp\\ipykernel_17256\\3374298231.py\", line 16, in train\n",
      "wandb: ERROR     for i, (image, target) in enumerate(train_loader):\n",
      "wandb: ERROR   File \"C:\\Users\\GACHON\\anaconda3\\envs\\djftk\\lib\\site-packages\\torch\\utils\\data\\dataloader.py\", line 521, in __next__\n",
      "wandb: ERROR     data = self._next_data()\n",
      "wandb: ERROR   File \"C:\\Users\\GACHON\\anaconda3\\envs\\djftk\\lib\\site-packages\\torch\\utils\\data\\dataloader.py\", line 561, in _next_data\n",
      "wandb: ERROR     data = self._dataset_fetcher.fetch(index)  # may raise StopIteration\n",
      "wandb: ERROR   File \"C:\\Users\\GACHON\\anaconda3\\envs\\djftk\\lib\\site-packages\\torch\\utils\\data\\_utils\\fetch.py\", line 49, in fetch\n",
      "wandb: ERROR     data = [self.dataset[idx] for idx in possibly_batched_index]\n",
      "wandb: ERROR   File \"C:\\Users\\GACHON\\anaconda3\\envs\\djftk\\lib\\site-packages\\torch\\utils\\data\\_utils\\fetch.py\", line 49, in <listcomp>\n",
      "wandb: ERROR     data = [self.dataset[idx] for idx in possibly_batched_index]\n",
      "wandb: ERROR   File \"C:\\Users\\GACHON\\AppData\\Local\\Temp\\ipykernel_17256\\3731979408.py\", line 22, in __getitem__\n",
      "wandb: ERROR     img = Image.open(os.path.join(base_dir, self.mode, img_path)).convert('RGB')\n",
      "wandb: ERROR   File \"C:\\Users\\GACHON\\anaconda3\\envs\\djftk\\lib\\site-packages\\PIL\\Image.py\", line 3431, in open\n",
      "wandb: ERROR     fp = builtins.open(filename, \"rb\")\n",
      "wandb: ERROR PermissionError: [Errno 13] Permission denied: 'C:\\\\Users\\\\GACHON\\\\Documents\\\\jwkang\\\\CUB_200_2011_repackage_class50_v1\\\\CUB_200_2011_repackage_class50\\\\datasets\\\\train\\\\.ipynb_checkpoints'\n",
      "wandb: ERROR \n",
      "Detected 5 failed runs in a row at start, killing sweep.\n",
      "wandb: ERROR Detected 5 failed runs in a row at start, killing sweep.\n",
      "wandb: To change this value set WANDB_AGENT_MAX_INITIAL_FAILURES=val\n"
     ]
    }
   ],
   "source": [
    "# 학습 및 검증을 포함한 sweep 함수\n",
    "def sweep_train():\n",
    "    # wandb 설정\n",
    "    wandb.init()\n",
    "\n",
    "    # config에서 하이퍼파라미터 가져오기\n",
    "    config = wandb.config\n",
    "\n",
    "    # (batch size/epoch/lr/optimizer/momentum/dropout) 형식의 실험 이름 지정\n",
    "    experiment_name = f\"{config.batch_size} / {config.epochs} / {config.learning_rate} / {config.optimizer} / {config.momentum} / {config.dropout}\"\n",
    "\n",
    "    # Wandb 설정, 이름에 하이퍼파라미터 값을 포함\n",
    "    wandb.init(name=experiment_name)\n",
    "\n",
    "    # 모델 설정 (Transfer Learning)\n",
    "    model = models.resnet18(pretrained=True)\n",
    "    num_features = model.fc.in_features\n",
    "    model.fc = nn.Sequential(\n",
    "        nn.Dropout(config.dropout),         # 설정된 dropout 값 적용\n",
    "        nn.Linear(num_features, 50)         # 출력 레이어 수정\n",
    "    )\n",
    "    model.to(DEVICE)\n",
    "\n",
    "    # Optimizer 설정\n",
    "    if config.optimizer == \"SGD\":\n",
    "        optimizer = optim.SGD(model.parameters(), lr=config.learning_rate, momentum=config.momentum)\n",
    "    elif config.optimizer == \"Adam\":\n",
    "        optimizer = optim.Adam(model.parameters(), lr=config.learning_rate)\n",
    "\n",
    "    # 데이터셋과 DataLoader 설정\n",
    "    train_loader = DataLoader(CUB2011(mode='train', transforms=transforms_train), batch_size=config.batch_size, shuffle=True)\n",
    "    val_loader = DataLoader(CUB2011(mode='valid', transforms=transforms_valtest), batch_size=config.batch_size, shuffle=False)\n",
    "\n",
    "    best_accuracy = 0\n",
    "\n",
    "    for epoch in range(config.epochs):\n",
    "        train_loss = train(model, train_loader, optimizer, epoch)\n",
    "        val_loss, val_accuracy = evaluate(model, val_loader)\n",
    "\n",
    "        # 모델의 정확도 저장\n",
    "        if val_accuracy > best_accuracy:\n",
    "            best_accuracy = val_accuracy\n",
    "            torch.save(model.state_dict(), './best_model.pth')\n",
    "\n",
    "        # Wandb 로그 기록\n",
    "        wandb.log({\n",
    "            'Train Loss': train_loss,\n",
    "            'Validation Loss': val_loss,\n",
    "            'Validation Accuracy': val_accuracy,\n",
    "            'Epoch': epoch\n",
    "        })\n",
    "        print(f'[{epoch}] Validation Loss : {val_loss:.4f}, Accuracy: {val_accuracy:.4f}%')\n",
    "\n",
    "    # 최종 테스트 결과를 기록하기\n",
    "    test_loader = DataLoader(CUB2011(mode='test', transforms=transforms_valtest), batch_size=config.batch_size, shuffle=False)\n",
    "    test_loss, test_accuracy = evaluate(model, test_loader)\n",
    "    wandb.log({\n",
    "        'Test Loss': test_loss,\n",
    "        'Test Accuracy': test_accuracy\n",
    "    })\n",
    "\n",
    "    print(f'Test Loss : {test_loss:.4f}, Accuracy: {test_accuracy:.4f}%')\n",
    "\n",
    "# Wandb Sweep 실행\n",
    "wandb.agent(sweep_id, function=sweep_train)\n"
   ]
  },
  {
   "cell_type": "code",
   "execution_count": 30,
   "id": "bf7c9e16-fb2b-4def-82b8-7642747e913b",
   "metadata": {},
   "outputs": [],
   "source": [
    "wandb.finish()"
   ]
  }
 ],
 "metadata": {
  "kernelspec": {
   "display_name": "Python 3 (ipykernel)",
   "language": "python",
   "name": "python3"
  },
  "language_info": {
   "codemirror_mode": {
    "name": "ipython",
    "version": 3
   },
   "file_extension": ".py",
   "mimetype": "text/x-python",
   "name": "python",
   "nbconvert_exporter": "python",
   "pygments_lexer": "ipython3",
   "version": "3.8.20"
  }
 },
 "nbformat": 4,
 "nbformat_minor": 5
}
